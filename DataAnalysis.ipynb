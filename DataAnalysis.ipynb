{
 "cells": [
  {
   "cell_type": "code",
   "execution_count": 1,
   "metadata": {},
   "outputs": [],
   "source": [
    "# Import statements\n",
    "import pandas as pd\n",
    "from sklearn.model_selection import train_test_split\n",
    "from sklearn.linear_model import LinearRegression"
   ]
  },
  {
   "cell_type": "code",
   "execution_count": 2,
   "metadata": {},
   "outputs": [],
   "source": [
    "# Data dictionary just for my own sanity\n",
    "data_dict = {'cap-shape': {'b': 'bell', 'c': 'conical', 'x': 'convex', 'f': 'flat', 's': 'sunken', 'p': 'spherical', 'o': 'others'},\n",
    "             'cap-surface': {'i': 'fibrous', 'g': 'grooves', 'y': 'scaly', 's': 'smooth', 'd': 'dry', 'h': 'shiny', 'l': 'leathery', 'k': 'sikly', \n",
    "                             't': 'sticky', 'w': 'wrinkled', 'e': 'fleshy'},\n",
    "             'stem-root': {'b': 'bulbous', 's': 'swollen', 'c': 'club', 'u': 'cup', 'e': 'equal', 'z': 'rizhomorphs', 'r': 'rooted'},\n",
    "             'ring-type': {'c': 'cobwebby', 'e': 'evanexcent', 'r': 'flaring', 'g': 'grooved', 'l': 'large', 'p': 'pendant', 's': 'sheathing', \n",
    "                           'z': 'zone', 'y': 'scaly', 'm': 'movable', 'f': 'none', '?': 'unknown'},\n",
    "             'season': {'s': 'spring', 'u': 'summer', 'a': 'autumn', 'w': 'winter'},\n",
    "             'habitat': {'g': 'grasses', 'l': 'leaves', 'm': 'meadows', 'p': 'paths', 'h': 'heaths', 'u': 'urban', 'w': 'waste', 'd': 'woods'}}"
   ]
  },
  {
   "cell_type": "code",
   "execution_count": 3,
   "metadata": {},
   "outputs": [],
   "source": [
    "# Reading in data from CSV\n",
    "mushroom_baseDF= pd.read_csv('mushroom_overload.csv', low_memory=False)"
   ]
  },
  {
   "cell_type": "code",
   "execution_count": 32,
   "metadata": {},
   "outputs": [
    {
     "name": "stdout",
     "output_type": "stream",
     "text": [
      "Columns: Index(['class', 'cap-diameter', 'cap-shape', 'cap-surface', 'cap-color',\n",
      "       'does-bruise-or-bleed', 'gill-attachment', 'gill-spacing', 'gill-color',\n",
      "       'stem-height', 'stem-width', 'stem-root', 'stem-surface', 'stem-color',\n",
      "       'veil-type', 'veil-color', 'has-ring', 'ring-type', 'spore-print-color',\n",
      "       'habitat', 'season'],\n",
      "      dtype='object') \n",
      "\n",
      "DataFrame shape: (6723116, 21)\n"
     ]
    }
   ],
   "source": [
    "# Getting a look at the different columns available\n",
    "print(f\"Columns: {mushroom_baseDF.columns}\", \"\\n\")\n",
    "print(f\"DataFrame shape: {mushroom_baseDF.shape}\")"
   ]
  },
  {
   "cell_type": "code",
   "execution_count": 5,
   "metadata": {},
   "outputs": [
    {
     "name": "stdout",
     "output_type": "stream",
     "text": [
      "Number of null-values in class: 0\n",
      "Number of null-values in cap-diameter: 0\n",
      "Number of null-values in cap-shape: 0\n",
      "Number of null-values in cap-surface: 1579337\n",
      "Number of null-values in cap-color: 0\n",
      "Number of null-values in does-bruise-or-bleed: 0\n",
      "Number of null-values in gill-attachment: 1066721\n",
      "Number of null-values in gill-spacing: 2800709\n",
      "Number of null-values in gill-color: 0\n",
      "Number of null-values in stem-height: 0\n",
      "Number of null-values in stem-width: 0\n",
      "Number of null-values in stem-root: 5763499\n",
      "Number of null-values in stem-surface: 4263506\n",
      "Number of null-values in stem-color: 0\n",
      "Number of null-values in veil-type: 6367343\n",
      "Number of null-values in veil-color: 5893024\n",
      "Number of null-values in has-ring: 0\n",
      "Number of null-values in ring-type: 276729\n",
      "Number of null-values in spore-print-color: 6049365\n",
      "Number of null-values in habitat: 0\n",
      "Number of null-values in season: 0\n"
     ]
    }
   ],
   "source": [
    "# Simple for loop to output the number of null values in each feature\n",
    "for i in mushroom_baseDF.columns:\n",
    "    print(f\"Number of null-values in {i}: {mushroom_baseDF[i].isnull().sum().sum()}\")"
   ]
  },
  {
   "cell_type": "code",
   "execution_count": 6,
   "metadata": {},
   "outputs": [
    {
     "data": {
      "text/html": [
       "<div>\n",
       "<style scoped>\n",
       "    .dataframe tbody tr th:only-of-type {\n",
       "        vertical-align: middle;\n",
       "    }\n",
       "\n",
       "    .dataframe tbody tr th {\n",
       "        vertical-align: top;\n",
       "    }\n",
       "\n",
       "    .dataframe thead th {\n",
       "        text-align: right;\n",
       "    }\n",
       "</style>\n",
       "<table border=\"1\" class=\"dataframe\">\n",
       "  <thead>\n",
       "    <tr style=\"text-align: right;\">\n",
       "      <th></th>\n",
       "      <th>cap-shape</th>\n",
       "      <th>cap-surface</th>\n",
       "      <th>stem-root</th>\n",
       "      <th>ring-type</th>\n",
       "      <th>season</th>\n",
       "      <th>habitat</th>\n",
       "    </tr>\n",
       "  </thead>\n",
       "  <tbody>\n",
       "    <tr>\n",
       "      <th>0</th>\n",
       "      <td>f</td>\n",
       "      <td>g</td>\n",
       "      <td>s</td>\n",
       "      <td>g</td>\n",
       "      <td>a</td>\n",
       "      <td>d</td>\n",
       "    </tr>\n",
       "    <tr>\n",
       "      <th>1</th>\n",
       "      <td>x</td>\n",
       "      <td>h</td>\n",
       "      <td>s</td>\n",
       "      <td>g</td>\n",
       "      <td>u</td>\n",
       "      <td>d</td>\n",
       "    </tr>\n",
       "    <tr>\n",
       "      <th>2</th>\n",
       "      <td>f</td>\n",
       "      <td>h</td>\n",
       "      <td>s</td>\n",
       "      <td>p</td>\n",
       "      <td>a</td>\n",
       "      <td>d</td>\n",
       "    </tr>\n",
       "    <tr>\n",
       "      <th>3</th>\n",
       "      <td>f</td>\n",
       "      <td>g</td>\n",
       "      <td>s</td>\n",
       "      <td>g</td>\n",
       "      <td>u</td>\n",
       "      <td>d</td>\n",
       "    </tr>\n",
       "    <tr>\n",
       "      <th>4</th>\n",
       "      <td>x</td>\n",
       "      <td>h</td>\n",
       "      <td>s</td>\n",
       "      <td>p</td>\n",
       "      <td>w</td>\n",
       "      <td>d</td>\n",
       "    </tr>\n",
       "  </tbody>\n",
       "</table>\n",
       "</div>"
      ],
      "text/plain": [
       "  cap-shape cap-surface stem-root ring-type season habitat\n",
       "0         f           g         s         g      a       d\n",
       "1         x           h         s         g      u       d\n",
       "2         f           h         s         p      a       d\n",
       "3         f           g         s         g      u       d\n",
       "4         x           h         s         p      w       d"
      ]
     },
     "execution_count": 6,
     "metadata": {},
     "output_type": "execute_result"
    }
   ],
   "source": [
    "# Slimming down the dataframe into a new one to only have the relavent data\n",
    "mushroom_DF = mushroom_baseDF[['cap-shape', 'cap-surface', 'stem-root', 'ring-type', 'season', 'habitat']]\n",
    "mushroom_DF.head()"
   ]
  },
  {
   "cell_type": "code",
   "execution_count": 7,
   "metadata": {},
   "outputs": [],
   "source": [
    "# Dropping all rows with null values. Since I am testing if the selected categorical variables can be used to predict the dependent variable,\n",
    "# I am only interested in rows in which all variables are filled out.\n",
    "mushroom_DF_cleaned = mushroom_DF.dropna(axis = 0, how = 'any')"
   ]
  },
  {
   "cell_type": "code",
   "execution_count": 25,
   "metadata": {},
   "outputs": [
    {
     "data": {
      "text/plain": [
       "(643352, 6)"
      ]
     },
     "execution_count": 25,
     "metadata": {},
     "output_type": "execute_result"
    }
   ],
   "source": [
    "# Checking the shape\n",
    "mushroom_DF_cleaned.shape"
   ]
  },
  {
   "cell_type": "code",
   "execution_count": 8,
   "metadata": {},
   "outputs": [
    {
     "name": "stdout",
     "output_type": "stream",
     "text": [
      "Number of null-values in cap-shape: 0\n",
      "Number of null-values in cap-surface: 0\n",
      "Number of null-values in stem-root: 0\n",
      "Number of null-values in ring-type: 0\n",
      "Number of null-values in season: 0\n",
      "Number of null-values in habitat: 0\n"
     ]
    }
   ],
   "source": [
    "# Checking again for null values\n",
    "for i in mushroom_DF_cleaned.columns:\n",
    "    print(f\"Number of null-values in {i}: {mushroom_DF_cleaned[i].isnull().sum().sum()}\")"
   ]
  },
  {
   "cell_type": "code",
   "execution_count": 9,
   "metadata": {},
   "outputs": [],
   "source": [
    "X = mushroom_DF_cleaned[['cap-shape', 'cap-surface', 'stem-root', 'ring-type', 'season']]\n",
    "y = mushroom_DF_cleaned[['habitat']]"
   ]
  },
  {
   "cell_type": "code",
   "execution_count": 13,
   "metadata": {},
   "outputs": [],
   "source": [
    "# Creating dummy variables\n",
    "X = pd.get_dummies(X)\n",
    "y = pd.get_dummies(y)"
   ]
  },
  {
   "cell_type": "code",
   "execution_count": 22,
   "metadata": {},
   "outputs": [],
   "source": [
    "X_train, X_test, y_train, y_test = train_test_split(X, y, test_size=0.3, random_state=42)"
   ]
  },
  {
   "cell_type": "code",
   "execution_count": 23,
   "metadata": {},
   "outputs": [],
   "source": [
    "lin_model = LinearRegression()"
   ]
  },
  {
   "cell_type": "code",
   "execution_count": 24,
   "metadata": {},
   "outputs": [],
   "source": [
    "trained_model = lin_model.fit(X_train, y_train)"
   ]
  },
  {
   "cell_type": "code",
   "execution_count": null,
   "metadata": {},
   "outputs": [],
   "source": []
  }
 ],
 "metadata": {
  "kernelspec": {
   "display_name": "WGUCap",
   "language": "python",
   "name": "python3"
  },
  "language_info": {
   "codemirror_mode": {
    "name": "ipython",
    "version": 3
   },
   "file_extension": ".py",
   "mimetype": "text/x-python",
   "name": "python",
   "nbconvert_exporter": "python",
   "pygments_lexer": "ipython3",
   "version": "3.12.4"
  }
 },
 "nbformat": 4,
 "nbformat_minor": 2
}
