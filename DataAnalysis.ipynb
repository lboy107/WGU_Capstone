{
 "cells": [
  {
   "cell_type": "code",
   "execution_count": 1,
   "metadata": {},
   "outputs": [],
   "source": [
    "# Import statements\n",
    "\n",
    "import pandas as pd\n",
    "import numpy as np\n",
    "import matplotlib as plt\n",
    "from sklearn.preprocessing import LabelEncoder\n",
    "from sklearn.model_selection import KFold\n",
    "from sklearn.linear_model import LogisticRegression\n",
    "from sklearn.metrics import accuracy_score\n",
    "from imblearn.under_sampling import RandomUnderSampler"
   ]
  },
  {
   "cell_type": "code",
   "execution_count": 2,
   "metadata": {},
   "outputs": [],
   "source": [
    "# Data dictionary just for my own sanity\n",
    "\n",
    "data_dict = {'cap-shape': {'b': 'bell', 'c': 'conical', 'x': 'convex', 'f': 'flat', 's': 'sunken', 'p': 'spherical', 'o': 'others'},\n",
    "             'cap-surface': {'i': 'fibrous', 'g': 'grooves', 'y': 'scaly', 's': 'smooth', 'd': 'dry', 'h': 'shiny', 'l': 'leathery', 'k': 'sikly', \n",
    "                             't': 'sticky', 'w': 'wrinkled', 'e': 'fleshy'},\n",
    "             'stem-root': {'b': 'bulbous', 's': 'swollen', 'c': 'club', 'u': 'cup', 'e': 'equal', 'z': 'rizhomorphs', 'r': 'rooted'},\n",
    "             'ring-type': {'c': 'cobwebby', 'e': 'evanexcent', 'r': 'flaring', 'g': 'grooved', 'l': 'large', 'p': 'pendant', 's': 'sheathing', \n",
    "                           'z': 'zone', 'y': 'scaly', 'm': 'movable', 'f': 'none', '?': 'unknown'},\n",
    "             'season': {'s': 'spring', 'u': 'summer', 'a': 'autumn', 'w': 'winter'},\n",
    "             'habitat': {'g': 'grasses', 'l': 'leaves', 'm': 'meadows', 'p': 'paths', 'h': 'heaths', 'u': 'urban', 'w': 'waste', 'd': 'woods'}}"
   ]
  },
  {
   "cell_type": "code",
   "execution_count": 3,
   "metadata": {},
   "outputs": [],
   "source": [
    "# Reading in data from CSV\n",
    "\n",
    "mushroom_baseDF= pd.read_csv('mushroom_overload.csv', low_memory=False)"
   ]
  },
  {
   "cell_type": "code",
   "execution_count": 4,
   "metadata": {},
   "outputs": [
    {
     "name": "stdout",
     "output_type": "stream",
     "text": [
      "Columns: Index(['class', 'cap-diameter', 'cap-shape', 'cap-surface', 'cap-color',\n",
      "       'does-bruise-or-bleed', 'gill-attachment', 'gill-spacing', 'gill-color',\n",
      "       'stem-height', 'stem-width', 'stem-root', 'stem-surface', 'stem-color',\n",
      "       'veil-type', 'veil-color', 'has-ring', 'ring-type', 'spore-print-color',\n",
      "       'habitat', 'season'],\n",
      "      dtype='object') \n",
      "\n",
      "DataFrame shape: (6723116, 21)\n"
     ]
    }
   ],
   "source": [
    "# Getting a look at the different columns available\n",
    "\n",
    "print(f\"Columns: {mushroom_baseDF.columns}\", \"\\n\")\n",
    "print(f\"DataFrame shape: {mushroom_baseDF.shape}\")"
   ]
  },
  {
   "cell_type": "code",
   "execution_count": 5,
   "metadata": {},
   "outputs": [
    {
     "name": "stdout",
     "output_type": "stream",
     "text": [
      "Number of null-values in class: 0\n",
      "Number of null-values in cap-diameter: 0\n",
      "Number of null-values in cap-shape: 0\n",
      "Number of null-values in cap-surface: 1579337\n",
      "Number of null-values in cap-color: 0\n",
      "Number of null-values in does-bruise-or-bleed: 0\n",
      "Number of null-values in gill-attachment: 1066721\n",
      "Number of null-values in gill-spacing: 2800709\n",
      "Number of null-values in gill-color: 0\n",
      "Number of null-values in stem-height: 0\n",
      "Number of null-values in stem-width: 0\n",
      "Number of null-values in stem-root: 5763499\n",
      "Number of null-values in stem-surface: 4263506\n",
      "Number of null-values in stem-color: 0\n",
      "Number of null-values in veil-type: 6367343\n",
      "Number of null-values in veil-color: 5893024\n",
      "Number of null-values in has-ring: 0\n",
      "Number of null-values in ring-type: 276729\n",
      "Number of null-values in spore-print-color: 6049365\n",
      "Number of null-values in habitat: 0\n",
      "Number of null-values in season: 0\n"
     ]
    }
   ],
   "source": [
    "# Simple for loop to output the number of null values in each feature\n",
    "\n",
    "for i in mushroom_baseDF.columns:\n",
    "    print(f\"Number of null-values in {i}: {mushroom_baseDF[i].isnull().sum().sum()}\")"
   ]
  },
  {
   "cell_type": "code",
   "execution_count": 6,
   "metadata": {},
   "outputs": [
    {
     "data": {
      "text/html": [
       "<div>\n",
       "<style scoped>\n",
       "    .dataframe tbody tr th:only-of-type {\n",
       "        vertical-align: middle;\n",
       "    }\n",
       "\n",
       "    .dataframe tbody tr th {\n",
       "        vertical-align: top;\n",
       "    }\n",
       "\n",
       "    .dataframe thead th {\n",
       "        text-align: right;\n",
       "    }\n",
       "</style>\n",
       "<table border=\"1\" class=\"dataframe\">\n",
       "  <thead>\n",
       "    <tr style=\"text-align: right;\">\n",
       "      <th></th>\n",
       "      <th>cap-shape</th>\n",
       "      <th>cap-surface</th>\n",
       "      <th>stem-root</th>\n",
       "      <th>ring-type</th>\n",
       "      <th>season</th>\n",
       "      <th>habitat</th>\n",
       "    </tr>\n",
       "  </thead>\n",
       "  <tbody>\n",
       "    <tr>\n",
       "      <th>0</th>\n",
       "      <td>f</td>\n",
       "      <td>g</td>\n",
       "      <td>s</td>\n",
       "      <td>g</td>\n",
       "      <td>a</td>\n",
       "      <td>d</td>\n",
       "    </tr>\n",
       "    <tr>\n",
       "      <th>1</th>\n",
       "      <td>x</td>\n",
       "      <td>h</td>\n",
       "      <td>s</td>\n",
       "      <td>g</td>\n",
       "      <td>u</td>\n",
       "      <td>d</td>\n",
       "    </tr>\n",
       "    <tr>\n",
       "      <th>2</th>\n",
       "      <td>f</td>\n",
       "      <td>h</td>\n",
       "      <td>s</td>\n",
       "      <td>p</td>\n",
       "      <td>a</td>\n",
       "      <td>d</td>\n",
       "    </tr>\n",
       "    <tr>\n",
       "      <th>3</th>\n",
       "      <td>f</td>\n",
       "      <td>g</td>\n",
       "      <td>s</td>\n",
       "      <td>g</td>\n",
       "      <td>u</td>\n",
       "      <td>d</td>\n",
       "    </tr>\n",
       "    <tr>\n",
       "      <th>4</th>\n",
       "      <td>x</td>\n",
       "      <td>h</td>\n",
       "      <td>s</td>\n",
       "      <td>p</td>\n",
       "      <td>w</td>\n",
       "      <td>d</td>\n",
       "    </tr>\n",
       "  </tbody>\n",
       "</table>\n",
       "</div>"
      ],
      "text/plain": [
       "  cap-shape cap-surface stem-root ring-type season habitat\n",
       "0         f           g         s         g      a       d\n",
       "1         x           h         s         g      u       d\n",
       "2         f           h         s         p      a       d\n",
       "3         f           g         s         g      u       d\n",
       "4         x           h         s         p      w       d"
      ]
     },
     "execution_count": 6,
     "metadata": {},
     "output_type": "execute_result"
    }
   ],
   "source": [
    "# Slimming down the dataframe into a new one to only have the relavent data\n",
    "\n",
    "mushroom_DF = mushroom_baseDF[['cap-shape', 'cap-surface', 'stem-root', 'ring-type', 'season', 'habitat']]\n",
    "mushroom_DF.head()"
   ]
  },
  {
   "cell_type": "code",
   "execution_count": 7,
   "metadata": {},
   "outputs": [],
   "source": [
    "'''\n",
    "Dropping all rows with null values. Since I am testing if the selected categorical variables can be used to predict the dependent variable,\n",
    "I am only interested in rows in which all variables are filled out.\n",
    "'''\n",
    "\n",
    "mushroom_DF_cleaned = mushroom_DF.dropna(axis = 0, how = 'any')"
   ]
  },
  {
   "cell_type": "code",
   "execution_count": 8,
   "metadata": {},
   "outputs": [
    {
     "data": {
      "text/plain": [
       "(643352, 6)"
      ]
     },
     "execution_count": 8,
     "metadata": {},
     "output_type": "execute_result"
    }
   ],
   "source": [
    "# Checking the shape\n",
    "\n",
    "mushroom_DF_cleaned.shape"
   ]
  },
  {
   "cell_type": "code",
   "execution_count": 9,
   "metadata": {},
   "outputs": [
    {
     "name": "stdout",
     "output_type": "stream",
     "text": [
      "Number of null-values in cap-shape: 0\n",
      "Number of null-values in cap-surface: 0\n",
      "Number of null-values in stem-root: 0\n",
      "Number of null-values in ring-type: 0\n",
      "Number of null-values in season: 0\n",
      "Number of null-values in habitat: 0\n"
     ]
    }
   ],
   "source": [
    "# Checking again for null values\n",
    "\n",
    "for i in mushroom_DF_cleaned.columns:\n",
    "    print(f\"Number of null-values in {i}: {mushroom_DF_cleaned[i].isnull().sum().sum()}\")"
   ]
  },
  {
   "cell_type": "code",
   "execution_count": 10,
   "metadata": {},
   "outputs": [],
   "source": [
    "# Breaking the DataFrame into independent and dependent variables\n",
    "\n",
    "X = mushroom_DF_cleaned[['cap-shape', 'cap-surface', 'stem-root', 'ring-type', 'season']]\n",
    "y = mushroom_DF_cleaned[['habitat']]"
   ]
  },
  {
   "cell_type": "code",
   "execution_count": 11,
   "metadata": {},
   "outputs": [
    {
     "name": "stdout",
     "output_type": "stream",
     "text": [
      "Original categories and their encoded values: {0: 'd', 1: 'g', 2: 'h', 3: 'l', 4: 'm'}\n"
     ]
    }
   ],
   "source": [
    "# Using label encoding on the dependent variable and printing out the encoding mapping.\n",
    "\n",
    "label_encoder = LabelEncoder()\n",
    "y.loc[:, 'habitat'] = label_encoder.fit_transform(y['habitat']) \n",
    "print(\"Original categories and their encoded values:\", dict(enumerate(label_encoder.classes_)))"
   ]
  },
  {
   "cell_type": "code",
   "execution_count": 12,
   "metadata": {},
   "outputs": [
    {
     "name": "stdout",
     "output_type": "stream",
     "text": [
      "habitat\n",
      "0    475778\n",
      "4     68990\n",
      "3     49271\n",
      "1     29625\n",
      "2     19688\n",
      "Name: count, dtype: int64\n"
     ]
    },
    {
     "data": {
      "image/png": "[encoded data removed]",
      "text/plain": [
       "<Figure size 640x480 with 1 Axes>"
      ]
     },
     "metadata": {},
     "output_type": "display_data"
    }
   ],
   "source": [
    "'''\n",
    "Looking at the y-value spread. 0, which corresponds to d;woods, is highly overrepresented.\n",
    "I found this while trying to fit the model originally, and had to perform more preprocessing.\n",
    "'''\n",
    "\n",
    "print(y['habitat'].value_counts())\n",
    "y['habitat'].value_counts().plot.pie(autopct='%1.1f%%');"
   ]
  },
  {
   "cell_type": "code",
   "execution_count": 13,
   "metadata": {},
   "outputs": [],
   "source": [
    "''' \n",
    "Flattens dataframe into 1-D array and makes sure values are INT. This is another issue I ran into while trying to fit the model.\n",
    "The flattening was just to fix a warning, but for some reason the encoder was not changing the dtype of everything, causing an issue. I carte-blanch\n",
    "changed everything to INT to make it all discrete values. This also needs to be done before the following UnderSampling because the undersampler will \n",
    "complain about the same issue as the model.\n",
    "'''\n",
    "\n",
    "y = y[['habitat']].values.flatten()\n",
    "y = y.astype(int)"
   ]
  },
  {
   "cell_type": "code",
   "execution_count": 14,
   "metadata": {},
   "outputs": [],
   "source": [
    "# Undersampling the data to cut everything down to the size of the minority label\n",
    "rus = RandomUnderSampler(sampling_strategy='not minority')\n",
    "X, y = rus.fit_resample(X, y)"
   ]
  },
  {
   "cell_type": "code",
   "execution_count": 15,
   "metadata": {},
   "outputs": [
    {
     "data": {
      "image/png": "[encoded data removed]",
      "text/plain": [
       "<Figure size 640x480 with 1 Axes>"
      ]
     },
     "metadata": {},
     "output_type": "display_data"
    }
   ],
   "source": [
    "# Looking at the spread of the data another time to make sure that all is even.\n",
    "\n",
    "y_series = pd.Series(y)\n",
    "y_series.value_counts().plot.pie(autopct='%1.1f%%');"
   ]
  },
  {
   "cell_type": "code",
   "execution_count": 16,
   "metadata": {},
   "outputs": [],
   "source": [
    "# Creating dummy variables for the non-binary, categorical independent variables.\n",
    "\n",
    "X = pd.get_dummies(X)\n",
    "X_array = X.to_numpy()"
   ]
  },
  {
   "cell_type": "code",
   "execution_count": 17,
   "metadata": {},
   "outputs": [],
   "source": [
    "# Creating K-folds and splitting data\n",
    "\n",
    "kf = KFold(n_splits=10, shuffle=True, random_state=42)\n",
    "data_split_object = kf.split(X_array, y)"
   ]
  },
  {
   "cell_type": "code",
   "execution_count": 18,
   "metadata": {},
   "outputs": [
    {
     "name": "stdout",
     "output_type": "stream",
     "text": [
      "Train indicies are:  [0 1 2 3 4 5 6 7 8 9]\n",
      "Test indicies are:  [ 23  53  70  87  97 101 102 103 106 114]\n"
     ]
    }
   ],
   "source": [
    "# Just visualizing the split\n",
    "\n",
    "my_split_data = next(data_split_object)\n",
    "print(\"Train indicies are: \", my_split_data[0][0:10])\n",
    "print(\"Test indicies are: \", my_split_data[1][0:10])"
   ]
  },
  {
   "cell_type": "code",
   "execution_count": 19,
   "metadata": {},
   "outputs": [],
   "source": [
    "# Empty lists that are going to store accuracy values\n",
    "\n",
    "predicted_y = []\n",
    "expected_y = []"
   ]
  },
  {
   "cell_type": "code",
   "execution_count": 20,
   "metadata": {},
   "outputs": [
    {
     "name": "stdout",
     "output_type": "stream",
     "text": [
      "Accuracy from this fold is: 0.8674319382364892\n",
      "Accuracy from this fold is: 0.8755587159691183\n",
      "Accuracy from this fold is: 0.8697683868346201\n",
      "Accuracy from this fold is: 0.8715969118244616\n",
      "Accuracy from this fold is: 0.8758634701340918\n",
      "Accuracy from this fold is: 0.8713937423811459\n",
      "Accuracy from this fold is: 0.8707842340511986\n",
      "Accuracy from this fold is: 0.8669240146281999\n",
      "Accuracy from this fold is: 0.8720032507110931\n",
      "Accuracy from this fold is: 0.8729175132060139\n"
     ]
    }
   ],
   "source": [
    "'''\n",
    "This FOR loop is doing a number of things:\n",
    "    1. Splits data into K-folds.\n",
    "    2. Creates the training and testing data-split off the data from each fold.\n",
    "    3. Fit the model off the train data.\n",
    "    4. Predicts the label from X_test using the trained model.\n",
    "    5. Compares the predicted with the actual value in y_test.\n",
    "    6. Saves the predicted and expected to the respective lists.\n",
    "'''\n",
    "\n",
    "for train_index, test_index in kf.split(X_array, y):\n",
    "    X_train, X_test = X_array[train_index], X_array[test_index]\n",
    "    y_train, y_test = y[train_index], y[test_index]\n",
    "\n",
    "\n",
    "    classifier = LogisticRegression(solver='saga', random_state=42)\n",
    "    classifier.fit(X_train, y_train)\n",
    "\n",
    "    predicted_this_fold = classifier.predict(X_test)\n",
    "\n",
    "    # Leaving this in since I was using this to troubleshoot unbalanced data\n",
    "    #print(\"y_test unique values:\", np.unique(y_test), \"Type:\", type(y_test[0]))\n",
    "    #print(\"predicted_this_fold unique values:\", np.unique(predicted_this_fold), \"Type:\", type(predicted_this_fold[0]))\n",
    "\n",
    "    accuracy = accuracy_score(y_test, predicted_this_fold)\n",
    "    print(\"Accuracy from this fold is: \" + accuracy.__str__())\n",
    "\n",
    "    predicted_y.extend(predicted_this_fold)\n",
    "\n",
    "    expected_y.extend(y_test)"
   ]
  },
  {
   "cell_type": "code",
   "execution_count": 21,
   "metadata": {},
   "outputs": [
    {
     "name": "stdout",
     "output_type": "stream",
     "text": [
      "\n",
      " Accuracy from all folds is: 0.8714242177976432\n"
     ]
    }
   ],
   "source": [
    "# Final thing is to calculate and print the accuracy score for all folds.\n",
    "\n",
    "accuracy = accuracy_score(expected_y, predicted_y)\n",
    "print('\\n', \"Accuracy from all folds is: \" + accuracy.__str__())"
   ]
  },
  {
   "cell_type": "code",
   "execution_count": null,
   "metadata": {},
   "outputs": [],
   "source": []
  }
 ],
 "metadata": {
  "kernelspec": {
   "display_name": "WGUCap",
   "language": "python",
   "name": "python3"
  },
  "language_info": {
   "codemirror_mode": {
    "name": "ipython",
    "version": 3
   },
   "file_extension": ".py",
   "mimetype": "text/x-python",
   "name": "python",
   "nbconvert_exporter": "python",
   "pygments_lexer": "ipython3",
   "version": "3.12.4"
  }
 },
 "nbformat": 4,
 "nbformat_minor": 2
}
